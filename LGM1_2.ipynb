{
  "nbformat": 4,
  "nbformat_minor": 0,
  "metadata": {
    "colab": {
      "provenance": []
    },
    "kernelspec": {
      "name": "python3",
      "display_name": "Python 3"
    },
    "language_info": {
      "name": "python"
    }
  },
  "cells": [
    {
      "cell_type": "markdown",
      "source": [
        "**Stock Market Prediction And Forecasting Using Stacked LSTM **"
      ],
      "metadata": {
        "id": "91pisQNn7Keo"
      }
    },
    {
      "cell_type": "code",
      "source": [
        "#Import necessary Libraries\n",
        "import pandas as pd\n",
        "import numpy as np\n",
        "import math\n",
        "import matplotlib.pyplot as plt\n",
        "from sklearn.preprocessing import MinMaxScaler\n",
        "from sklearn.metrics import mean_squared_error\n",
        "import tensorflow as tf\n",
        "from tensorflow.python.keras.models import Sequential\n",
        "from tensorflow.python.keras.layers import Dense\n",
        "from tensorflow.python.keras.layers import LSTM\n",
        "%matplotlib inline"
      ],
      "metadata": {
        "id": "7jgQG1DT7qhM"
      },
      "execution_count": null,
      "outputs": []
    },
    {
      "cell_type": "code",
      "source": [
        "df = pd.read_csv('https://github.com/rudrajikadra/Stock-Market-Prediction-and-Forecasting-Using-Stacked-LSTM/raw/master/Reliance_Stock.csv')\n",
        "df = df.dropna()\n",
        "df.head()"
      ],
      "metadata": {
        "colab": {
          "base_uri": "https://localhost:8080/",
          "height": 206
        },
        "id": "FkHKrtrf7qkT",
        "outputId": "b3e80393-8478-430a-ec27-e567d2426075"
      },
      "execution_count": null,
      "outputs": [
        {
          "output_type": "execute_result",
          "data": {
            "text/plain": [
              "         Date        Open        High         Low       Close   Adj Close  \\\n",
              "0  2015-06-08  453.399994  455.000000  441.549988  442.725006  425.550629   \n",
              "1  2015-06-09  441.774994  445.325012  438.674988  441.850006  424.709564   \n",
              "2  2015-06-10  443.000000  454.950012  442.500000  452.899994  435.330933   \n",
              "3  2015-06-11  453.000000  454.750000  436.825012  438.575012  421.561676   \n",
              "4  2015-06-12  439.500000  446.350006  439.125000  444.924988  427.665283   \n",
              "\n",
              "      Volume  \n",
              "0  4958862.0  \n",
              "1  4184606.0  \n",
              "2  6176034.0  \n",
              "3  6709574.0  \n",
              "4  9849112.0  "
            ],
            "text/html": [
              "\n",
              "  <div id=\"df-f6a25e40-f4e3-4b98-861d-b43fc31f5601\">\n",
              "    <div class=\"colab-df-container\">\n",
              "      <div>\n",
              "<style scoped>\n",
              "    .dataframe tbody tr th:only-of-type {\n",
              "        vertical-align: middle;\n",
              "    }\n",
              "\n",
              "    .dataframe tbody tr th {\n",
              "        vertical-align: top;\n",
              "    }\n",
              "\n",
              "    .dataframe thead th {\n",
              "        text-align: right;\n",
              "    }\n",
              "</style>\n",
              "<table border=\"1\" class=\"dataframe\">\n",
              "  <thead>\n",
              "    <tr style=\"text-align: right;\">\n",
              "      <th></th>\n",
              "      <th>Date</th>\n",
              "      <th>Open</th>\n",
              "      <th>High</th>\n",
              "      <th>Low</th>\n",
              "      <th>Close</th>\n",
              "      <th>Adj Close</th>\n",
              "      <th>Volume</th>\n",
              "    </tr>\n",
              "  </thead>\n",
              "  <tbody>\n",
              "    <tr>\n",
              "      <th>0</th>\n",
              "      <td>2015-06-08</td>\n",
              "      <td>453.399994</td>\n",
              "      <td>455.000000</td>\n",
              "      <td>441.549988</td>\n",
              "      <td>442.725006</td>\n",
              "      <td>425.550629</td>\n",
              "      <td>4958862.0</td>\n",
              "    </tr>\n",
              "    <tr>\n",
              "      <th>1</th>\n",
              "      <td>2015-06-09</td>\n",
              "      <td>441.774994</td>\n",
              "      <td>445.325012</td>\n",
              "      <td>438.674988</td>\n",
              "      <td>441.850006</td>\n",
              "      <td>424.709564</td>\n",
              "      <td>4184606.0</td>\n",
              "    </tr>\n",
              "    <tr>\n",
              "      <th>2</th>\n",
              "      <td>2015-06-10</td>\n",
              "      <td>443.000000</td>\n",
              "      <td>454.950012</td>\n",
              "      <td>442.500000</td>\n",
              "      <td>452.899994</td>\n",
              "      <td>435.330933</td>\n",
              "      <td>6176034.0</td>\n",
              "    </tr>\n",
              "    <tr>\n",
              "      <th>3</th>\n",
              "      <td>2015-06-11</td>\n",
              "      <td>453.000000</td>\n",
              "      <td>454.750000</td>\n",
              "      <td>436.825012</td>\n",
              "      <td>438.575012</td>\n",
              "      <td>421.561676</td>\n",
              "      <td>6709574.0</td>\n",
              "    </tr>\n",
              "    <tr>\n",
              "      <th>4</th>\n",
              "      <td>2015-06-12</td>\n",
              "      <td>439.500000</td>\n",
              "      <td>446.350006</td>\n",
              "      <td>439.125000</td>\n",
              "      <td>444.924988</td>\n",
              "      <td>427.665283</td>\n",
              "      <td>9849112.0</td>\n",
              "    </tr>\n",
              "  </tbody>\n",
              "</table>\n",
              "</div>\n",
              "      <button class=\"colab-df-convert\" onclick=\"convertToInteractive('df-f6a25e40-f4e3-4b98-861d-b43fc31f5601')\"\n",
              "              title=\"Convert this dataframe to an interactive table.\"\n",
              "              style=\"display:none;\">\n",
              "        \n",
              "  <svg xmlns=\"http://www.w3.org/2000/svg\" height=\"24px\"viewBox=\"0 0 24 24\"\n",
              "       width=\"24px\">\n",
              "    <path d=\"M0 0h24v24H0V0z\" fill=\"none\"/>\n",
              "    <path d=\"M18.56 5.44l.94 2.06.94-2.06 2.06-.94-2.06-.94-.94-2.06-.94 2.06-2.06.94zm-11 1L8.5 8.5l.94-2.06 2.06-.94-2.06-.94L8.5 2.5l-.94 2.06-2.06.94zm10 10l.94 2.06.94-2.06 2.06-.94-2.06-.94-.94-2.06-.94 2.06-2.06.94z\"/><path d=\"M17.41 7.96l-1.37-1.37c-.4-.4-.92-.59-1.43-.59-.52 0-1.04.2-1.43.59L10.3 9.45l-7.72 7.72c-.78.78-.78 2.05 0 2.83L4 21.41c.39.39.9.59 1.41.59.51 0 1.02-.2 1.41-.59l7.78-7.78 2.81-2.81c.8-.78.8-2.07 0-2.86zM5.41 20L4 18.59l7.72-7.72 1.47 1.35L5.41 20z\"/>\n",
              "  </svg>\n",
              "      </button>\n",
              "      \n",
              "  <style>\n",
              "    .colab-df-container {\n",
              "      display:flex;\n",
              "      flex-wrap:wrap;\n",
              "      gap: 12px;\n",
              "    }\n",
              "\n",
              "    .colab-df-convert {\n",
              "      background-color: #E8F0FE;\n",
              "      border: none;\n",
              "      border-radius: 50%;\n",
              "      cursor: pointer;\n",
              "      display: none;\n",
              "      fill: #1967D2;\n",
              "      height: 32px;\n",
              "      padding: 0 0 0 0;\n",
              "      width: 32px;\n",
              "    }\n",
              "\n",
              "    .colab-df-convert:hover {\n",
              "      background-color: #E2EBFA;\n",
              "      box-shadow: 0px 1px 2px rgba(60, 64, 67, 0.3), 0px 1px 3px 1px rgba(60, 64, 67, 0.15);\n",
              "      fill: #174EA6;\n",
              "    }\n",
              "\n",
              "    [theme=dark] .colab-df-convert {\n",
              "      background-color: #3B4455;\n",
              "      fill: #D2E3FC;\n",
              "    }\n",
              "\n",
              "    [theme=dark] .colab-df-convert:hover {\n",
              "      background-color: #434B5C;\n",
              "      box-shadow: 0px 1px 3px 1px rgba(0, 0, 0, 0.15);\n",
              "      filter: drop-shadow(0px 1px 2px rgba(0, 0, 0, 0.3));\n",
              "      fill: #FFFFFF;\n",
              "    }\n",
              "  </style>\n",
              "\n",
              "      <script>\n",
              "        const buttonEl =\n",
              "          document.querySelector('#df-f6a25e40-f4e3-4b98-861d-b43fc31f5601 button.colab-df-convert');\n",
              "        buttonEl.style.display =\n",
              "          google.colab.kernel.accessAllowed ? 'block' : 'none';\n",
              "\n",
              "        async function convertToInteractive(key) {\n",
              "          const element = document.querySelector('#df-f6a25e40-f4e3-4b98-861d-b43fc31f5601');\n",
              "          const dataTable =\n",
              "            await google.colab.kernel.invokeFunction('convertToInteractive',\n",
              "                                                     [key], {});\n",
              "          if (!dataTable) return;\n",
              "\n",
              "          const docLinkHtml = 'Like what you see? Visit the ' +\n",
              "            '<a target=\"_blank\" href=https://colab.research.google.com/notebooks/data_table.ipynb>data table notebook</a>'\n",
              "            + ' to learn more about interactive tables.';\n",
              "          element.innerHTML = '';\n",
              "          dataTable['output_type'] = 'display_data';\n",
              "          await google.colab.output.renderOutput(dataTable, element);\n",
              "          const docLink = document.createElement('div');\n",
              "          docLink.innerHTML = docLinkHtml;\n",
              "          element.appendChild(docLink);\n",
              "        }\n",
              "      </script>\n",
              "    </div>\n",
              "  </div>\n",
              "  "
            ]
          },
          "metadata": {},
          "execution_count": 7
        }
      ]
    },
    {
      "cell_type": "code",
      "source": [
        "df.tail()"
      ],
      "metadata": {
        "colab": {
          "base_uri": "https://localhost:8080/",
          "height": 206
        },
        "id": "W9_zLmSV7qne",
        "outputId": "35be4b8c-902b-417e-c54a-93daca57e688"
      },
      "execution_count": null,
      "outputs": [
        {
          "output_type": "execute_result",
          "data": {
            "text/plain": [
              "            Date    Open         High          Low        Close    Adj Close  \\\n",
              "1224  2020-06-01  1480.0  1538.349976  1475.949951  1520.349976  1520.349976   \n",
              "1225  2020-06-02  1526.0  1540.000000  1520.800049  1535.699951  1535.699951   \n",
              "1226  2020-06-03  1545.0  1560.000000  1533.349976  1541.650024  1541.650024   \n",
              "1227  2020-06-04  1544.0  1589.500000  1541.000000  1579.800049  1579.800049   \n",
              "1228  2020-06-05  1595.0  1618.000000  1573.699951  1581.699951  1581.699951   \n",
              "\n",
              "          Volume  \n",
              "1224  18434012.0  \n",
              "1225  10224049.0  \n",
              "1226  11713461.0  \n",
              "1227  15784379.0  \n",
              "1228  15246965.0  "
            ],
            "text/html": [
              "\n",
              "  <div id=\"df-dc762252-0805-4601-ad37-b32710cd42f0\">\n",
              "    <div class=\"colab-df-container\">\n",
              "      <div>\n",
              "<style scoped>\n",
              "    .dataframe tbody tr th:only-of-type {\n",
              "        vertical-align: middle;\n",
              "    }\n",
              "\n",
              "    .dataframe tbody tr th {\n",
              "        vertical-align: top;\n",
              "    }\n",
              "\n",
              "    .dataframe thead th {\n",
              "        text-align: right;\n",
              "    }\n",
              "</style>\n",
              "<table border=\"1\" class=\"dataframe\">\n",
              "  <thead>\n",
              "    <tr style=\"text-align: right;\">\n",
              "      <th></th>\n",
              "      <th>Date</th>\n",
              "      <th>Open</th>\n",
              "      <th>High</th>\n",
              "      <th>Low</th>\n",
              "      <th>Close</th>\n",
              "      <th>Adj Close</th>\n",
              "      <th>Volume</th>\n",
              "    </tr>\n",
              "  </thead>\n",
              "  <tbody>\n",
              "    <tr>\n",
              "      <th>1224</th>\n",
              "      <td>2020-06-01</td>\n",
              "      <td>1480.0</td>\n",
              "      <td>1538.349976</td>\n",
              "      <td>1475.949951</td>\n",
              "      <td>1520.349976</td>\n",
              "      <td>1520.349976</td>\n",
              "      <td>18434012.0</td>\n",
              "    </tr>\n",
              "    <tr>\n",
              "      <th>1225</th>\n",
              "      <td>2020-06-02</td>\n",
              "      <td>1526.0</td>\n",
              "      <td>1540.000000</td>\n",
              "      <td>1520.800049</td>\n",
              "      <td>1535.699951</td>\n",
              "      <td>1535.699951</td>\n",
              "      <td>10224049.0</td>\n",
              "    </tr>\n",
              "    <tr>\n",
              "      <th>1226</th>\n",
              "      <td>2020-06-03</td>\n",
              "      <td>1545.0</td>\n",
              "      <td>1560.000000</td>\n",
              "      <td>1533.349976</td>\n",
              "      <td>1541.650024</td>\n",
              "      <td>1541.650024</td>\n",
              "      <td>11713461.0</td>\n",
              "    </tr>\n",
              "    <tr>\n",
              "      <th>1227</th>\n",
              "      <td>2020-06-04</td>\n",
              "      <td>1544.0</td>\n",
              "      <td>1589.500000</td>\n",
              "      <td>1541.000000</td>\n",
              "      <td>1579.800049</td>\n",
              "      <td>1579.800049</td>\n",
              "      <td>15784379.0</td>\n",
              "    </tr>\n",
              "    <tr>\n",
              "      <th>1228</th>\n",
              "      <td>2020-06-05</td>\n",
              "      <td>1595.0</td>\n",
              "      <td>1618.000000</td>\n",
              "      <td>1573.699951</td>\n",
              "      <td>1581.699951</td>\n",
              "      <td>1581.699951</td>\n",
              "      <td>15246965.0</td>\n",
              "    </tr>\n",
              "  </tbody>\n",
              "</table>\n",
              "</div>\n",
              "      <button class=\"colab-df-convert\" onclick=\"convertToInteractive('df-dc762252-0805-4601-ad37-b32710cd42f0')\"\n",
              "              title=\"Convert this dataframe to an interactive table.\"\n",
              "              style=\"display:none;\">\n",
              "        \n",
              "  <svg xmlns=\"http://www.w3.org/2000/svg\" height=\"24px\"viewBox=\"0 0 24 24\"\n",
              "       width=\"24px\">\n",
              "    <path d=\"M0 0h24v24H0V0z\" fill=\"none\"/>\n",
              "    <path d=\"M18.56 5.44l.94 2.06.94-2.06 2.06-.94-2.06-.94-.94-2.06-.94 2.06-2.06.94zm-11 1L8.5 8.5l.94-2.06 2.06-.94-2.06-.94L8.5 2.5l-.94 2.06-2.06.94zm10 10l.94 2.06.94-2.06 2.06-.94-2.06-.94-.94-2.06-.94 2.06-2.06.94z\"/><path d=\"M17.41 7.96l-1.37-1.37c-.4-.4-.92-.59-1.43-.59-.52 0-1.04.2-1.43.59L10.3 9.45l-7.72 7.72c-.78.78-.78 2.05 0 2.83L4 21.41c.39.39.9.59 1.41.59.51 0 1.02-.2 1.41-.59l7.78-7.78 2.81-2.81c.8-.78.8-2.07 0-2.86zM5.41 20L4 18.59l7.72-7.72 1.47 1.35L5.41 20z\"/>\n",
              "  </svg>\n",
              "      </button>\n",
              "      \n",
              "  <style>\n",
              "    .colab-df-container {\n",
              "      display:flex;\n",
              "      flex-wrap:wrap;\n",
              "      gap: 12px;\n",
              "    }\n",
              "\n",
              "    .colab-df-convert {\n",
              "      background-color: #E8F0FE;\n",
              "      border: none;\n",
              "      border-radius: 50%;\n",
              "      cursor: pointer;\n",
              "      display: none;\n",
              "      fill: #1967D2;\n",
              "      height: 32px;\n",
              "      padding: 0 0 0 0;\n",
              "      width: 32px;\n",
              "    }\n",
              "\n",
              "    .colab-df-convert:hover {\n",
              "      background-color: #E2EBFA;\n",
              "      box-shadow: 0px 1px 2px rgba(60, 64, 67, 0.3), 0px 1px 3px 1px rgba(60, 64, 67, 0.15);\n",
              "      fill: #174EA6;\n",
              "    }\n",
              "\n",
              "    [theme=dark] .colab-df-convert {\n",
              "      background-color: #3B4455;\n",
              "      fill: #D2E3FC;\n",
              "    }\n",
              "\n",
              "    [theme=dark] .colab-df-convert:hover {\n",
              "      background-color: #434B5C;\n",
              "      box-shadow: 0px 1px 3px 1px rgba(0, 0, 0, 0.15);\n",
              "      filter: drop-shadow(0px 1px 2px rgba(0, 0, 0, 0.3));\n",
              "      fill: #FFFFFF;\n",
              "    }\n",
              "  </style>\n",
              "\n",
              "      <script>\n",
              "        const buttonEl =\n",
              "          document.querySelector('#df-dc762252-0805-4601-ad37-b32710cd42f0 button.colab-df-convert');\n",
              "        buttonEl.style.display =\n",
              "          google.colab.kernel.accessAllowed ? 'block' : 'none';\n",
              "\n",
              "        async function convertToInteractive(key) {\n",
              "          const element = document.querySelector('#df-dc762252-0805-4601-ad37-b32710cd42f0');\n",
              "          const dataTable =\n",
              "            await google.colab.kernel.invokeFunction('convertToInteractive',\n",
              "                                                     [key], {});\n",
              "          if (!dataTable) return;\n",
              "\n",
              "          const docLinkHtml = 'Like what you see? Visit the ' +\n",
              "            '<a target=\"_blank\" href=https://colab.research.google.com/notebooks/data_table.ipynb>data table notebook</a>'\n",
              "            + ' to learn more about interactive tables.';\n",
              "          element.innerHTML = '';\n",
              "          dataTable['output_type'] = 'display_data';\n",
              "          await google.colab.output.renderOutput(dataTable, element);\n",
              "          const docLink = document.createElement('div');\n",
              "          docLink.innerHTML = docLinkHtml;\n",
              "          element.appendChild(docLink);\n",
              "        }\n",
              "      </script>\n",
              "    </div>\n",
              "  </div>\n",
              "  "
            ]
          },
          "metadata": {},
          "execution_count": 8
        }
      ]
    },
    {
      "cell_type": "code",
      "source": [
        "df_close = df['Close']\n"
      ],
      "metadata": {
        "id": "2RLmjTL77qq4"
      },
      "execution_count": null,
      "outputs": []
    },
    {
      "cell_type": "code",
      "source": [
        "df_close.shape\n"
      ],
      "metadata": {
        "colab": {
          "base_uri": "https://localhost:8080/"
        },
        "id": "Xqi9PgIf7quK",
        "outputId": "cd7cebbb-e0ae-4c90-fa01-5283000f562e"
      },
      "execution_count": null,
      "outputs": [
        {
          "output_type": "execute_result",
          "data": {
            "text/plain": [
              "(1228,)"
            ]
          },
          "metadata": {},
          "execution_count": 10
        }
      ]
    },
    {
      "cell_type": "code",
      "source": [
        "plt.plot(df_close)\n"
      ],
      "metadata": {
        "colab": {
          "base_uri": "https://localhost:8080/",
          "height": 282
        },
        "id": "R_7zst_H7qxp",
        "outputId": "9dc2d070-1435-414c-9215-7e9a231f4ce7"
      },
      "execution_count": null,
      "outputs": [
        {
          "output_type": "execute_result",
          "data": {
            "text/plain": [
              "[<matplotlib.lines.Line2D at 0x7fec02270e50>]"
            ]
          },
          "metadata": {},
          "execution_count": 11
        },
        {
          "output_type": "display_data",
          "data": {
            "text/plain": [
              "<Figure size 432x288 with 1 Axes>"
            ],
            "image/png": "[encoded data removed]"
          },
          "metadata": {
            "needs_background": "light"
          }
        }
      ]
    },
    {
      "cell_type": "code",
      "source": [
        "scaler = MinMaxScaler(feature_range = (0,1))\n",
        "df_close = scaler.fit_transform(np.array(df_close).reshape(-1,1))\n"
      ],
      "metadata": {
        "id": "iFsQSMJn_cT6"
      },
      "execution_count": null,
      "outputs": []
    },
    {
      "cell_type": "code",
      "source": [
        "df_close.shape"
      ],
      "metadata": {
        "colab": {
          "base_uri": "https://localhost:8080/"
        },
        "id": "UXKoC8_m_cXu",
        "outputId": "aaf4e2e5-c37c-4b99-c1ee-d99b419798e6"
      },
      "execution_count": null,
      "outputs": [
        {
          "output_type": "execute_result",
          "data": {
            "text/plain": [
              "(1228, 1)"
            ]
          },
          "metadata": {},
          "execution_count": 13
        }
      ]
    },
    {
      "cell_type": "code",
      "source": [
        "df_close"
      ],
      "metadata": {
        "colab": {
          "base_uri": "https://localhost:8080/"
        },
        "id": "3wBDF1WK_cax",
        "outputId": "64858c7b-28d6-4865-8aba-4aee61b94965"
      },
      "execution_count": null,
      "outputs": [
        {
          "output_type": "execute_result",
          "data": {
            "text/plain": [
              "array([[0.02338571],\n",
              "       [0.0226536 ],\n",
              "       [0.0318991 ],\n",
              "       ...,\n",
              "       [0.94285362],\n",
              "       [0.97477365],\n",
              "       [0.97636329]])"
            ]
          },
          "metadata": {},
          "execution_count": 14
        }
      ]
    },
    {
      "cell_type": "code",
      "source": [
        " training_size = int(len(df_close) * 0.75)\n",
        "test_size = len(df_close) - training_size\n",
        "train_data, test_data = df_close[0:training_size,:], df_close[training_size:len(df_close),:1]"
      ],
      "metadata": {
        "id": "lTNi1vnr_ce-"
      },
      "execution_count": null,
      "outputs": []
    },
    {
      "cell_type": "code",
      "source": [
        "def create_dataset(dataset, time_step = 1):\n",
        "    dataX, dataY = [], []\n",
        "    for i in range(len(dataset) - time_step - 1):\n",
        "        a = dataset[i:(i+time_step), 0]\n",
        "        dataX.append(a)\n",
        "        dataY.append(dataset[i+time_step, 0])\n",
        "    return np.array(dataX), np.array(dataY)"
      ],
      "metadata": {
        "id": "st2eNbrKFtJA"
      },
      "execution_count": null,
      "outputs": []
    },
    {
      "cell_type": "code",
      "source": [
        "time_step = 100\n",
        "x_train, y_train = create_dataset(train_data, time_step)\n",
        "x_test, y_test = create_dataset(test_data, time_step)"
      ],
      "metadata": {
        "id": "5nmEJkYTFtMW"
      },
      "execution_count": null,
      "outputs": []
    },
    {
      "cell_type": "code",
      "source": [
        "x_train = x_train.reshape(x_train.shape[0], x_train.shape[1], 1)\n",
        "x_test = x_test.reshape(x_test.shape[0], x_test.shape[1], 1)"
      ],
      "metadata": {
        "id": "ngAKFO1hFtQA"
      },
      "execution_count": null,
      "outputs": []
    },
    {
      "cell_type": "code",
      "source": [
        "#Create the LSTM Model\n",
        "model = Sequential()\n",
        "model.add(LSTM(50, return_sequences = True, input_shape = (100,1)))\n",
        "model.add(LSTM(50, return_sequences = True))\n",
        "model.add(LSTM(50))\n",
        "model.add(Dense(1))\n",
        "model.compile(loss = 'mean_squared_error', optimizer = 'adam')"
      ],
      "metadata": {
        "id": "DusR8bGNFtTH"
      },
      "execution_count": null,
      "outputs": []
    },
    {
      "cell_type": "code",
      "source": [
        "model.summary()"
      ],
      "metadata": {
        "colab": {
          "base_uri": "https://localhost:8080/"
        },
        "id": "BJYeADWgFtW9",
        "outputId": "715f5f5b-09e8-4d08-f4cc-b7068057bfbf"
      },
      "execution_count": null,
      "outputs": [
        {
          "output_type": "stream",
          "name": "stdout",
          "text": [
            "Model: \"sequential\"\n",
            "_________________________________________________________________\n",
            "Layer (type)                 Output Shape              Param #   \n",
            "=================================================================\n",
            "lstm (LSTM)                  (None, 100, 50)           10400     \n",
            "_________________________________________________________________\n",
            "lstm_1 (LSTM)                (None, 100, 50)           20200     \n",
            "_________________________________________________________________\n",
            "lstm_2 (LSTM)                (None, 50)                20200     \n",
            "_________________________________________________________________\n",
            "dense (Dense)                (None, 1)                 51        \n",
            "=================================================================\n",
            "Total params: 50,851\n",
            "Trainable params: 50,851\n",
            "Non-trainable params: 0\n",
            "_________________________________________________________________\n"
          ]
        }
      ]
    },
    {
      "cell_type": "code",
      "source": [
        "model.fit(x_train, y_train, validation_data = (x_test, y_test), epochs = 100, batch_size = 64, verbose = 1)"
      ],
      "metadata": {
        "colab": {
          "base_uri": "https://localhost:8080/"
        },
        "id": "xIjkwv_UFtbQ",
        "outputId": "dde19900-4743-4a6a-afc6-456bcc78b795"
      },
      "execution_count": null,
      "outputs": [
        {
          "output_type": "stream",
          "name": "stdout",
          "text": [
            "Epoch 1/100\n",
            "13/13 [==============================] - 17s 506ms/step - loss: 0.0524 - val_loss: 0.0203\n",
            "Epoch 2/100\n",
            "13/13 [==============================] - 5s 380ms/step - loss: 0.0083 - val_loss: 0.0091\n",
            "Epoch 3/100\n",
            "13/13 [==============================] - 5s 383ms/step - loss: 0.0026 - val_loss: 0.0091\n",
            "Epoch 4/100\n",
            "13/13 [==============================] - 8s 622ms/step - loss: 0.0012 - val_loss: 0.0090\n",
            "Epoch 5/100\n",
            "13/13 [==============================] - 5s 392ms/step - loss: 9.8014e-04 - val_loss: 0.0092\n",
            "Epoch 6/100\n",
            "13/13 [==============================] - 6s 479ms/step - loss: 9.4397e-04 - val_loss: 0.0085\n",
            "Epoch 7/100\n",
            "13/13 [==============================] - 5s 384ms/step - loss: 9.4519e-04 - val_loss: 0.0084\n",
            "Epoch 8/100\n",
            "13/13 [==============================] - 6s 479ms/step - loss: 9.0903e-04 - val_loss: 0.0088\n",
            "Epoch 9/100\n",
            "13/13 [==============================] - 5s 385ms/step - loss: 8.9684e-04 - val_loss: 0.0094\n",
            "Epoch 10/100\n",
            "13/13 [==============================] - 7s 586ms/step - loss: 8.9583e-04 - val_loss: 0.0086\n",
            "Epoch 11/100\n",
            "13/13 [==============================] - 5s 385ms/step - loss: 8.7478e-04 - val_loss: 0.0086\n",
            "Epoch 12/100\n",
            "13/13 [==============================] - 6s 459ms/step - loss: 9.6678e-04 - val_loss: 0.0113\n",
            "Epoch 13/100\n",
            "13/13 [==============================] - 6s 462ms/step - loss: 0.0011 - val_loss: 0.0104\n",
            "Epoch 14/100\n",
            "13/13 [==============================] - 6s 439ms/step - loss: 9.3070e-04 - val_loss: 0.0079\n",
            "Epoch 15/100\n",
            "13/13 [==============================] - 6s 411ms/step - loss: 8.4109e-04 - val_loss: 0.0081\n",
            "Epoch 16/100\n",
            "13/13 [==============================] - 5s 381ms/step - loss: 8.3611e-04 - val_loss: 0.0088\n",
            "Epoch 17/100\n",
            "13/13 [==============================] - 6s 480ms/step - loss: 8.2888e-04 - val_loss: 0.0071\n",
            "Epoch 18/100\n",
            "13/13 [==============================] - 5s 386ms/step - loss: 8.0240e-04 - val_loss: 0.0078\n",
            "Epoch 19/100\n",
            "13/13 [==============================] - 6s 486ms/step - loss: 7.8425e-04 - val_loss: 0.0083\n",
            "Epoch 20/100\n",
            "13/13 [==============================] - 5s 392ms/step - loss: 7.7588e-04 - val_loss: 0.0067\n",
            "Epoch 21/100\n",
            "13/13 [==============================] - 6s 493ms/step - loss: 7.5572e-04 - val_loss: 0.0067\n",
            "Epoch 22/100\n",
            "13/13 [==============================] - 7s 535ms/step - loss: 7.9394e-04 - val_loss: 0.0090\n",
            "Epoch 23/100\n",
            "13/13 [==============================] - 6s 481ms/step - loss: 8.0289e-04 - val_loss: 0.0058\n",
            "Epoch 24/100\n",
            "13/13 [==============================] - 5s 381ms/step - loss: 7.5822e-04 - val_loss: 0.0059\n",
            "Epoch 25/100\n",
            "13/13 [==============================] - 5s 415ms/step - loss: 7.1359e-04 - val_loss: 0.0072\n",
            "Epoch 26/100\n",
            "13/13 [==============================] - 6s 422ms/step - loss: 6.9542e-04 - val_loss: 0.0057\n",
            "Epoch 27/100\n",
            "13/13 [==============================] - 5s 426ms/step - loss: 7.3706e-04 - val_loss: 0.0055\n",
            "Epoch 28/100\n",
            "13/13 [==============================] - 12s 900ms/step - loss: 7.7049e-04 - val_loss: 0.0078\n",
            "Epoch 29/100\n",
            "13/13 [==============================] - 7s 512ms/step - loss: 6.7987e-04 - val_loss: 0.0072\n",
            "Epoch 30/100\n",
            "13/13 [==============================] - 7s 518ms/step - loss: 6.6455e-04 - val_loss: 0.0061\n",
            "Epoch 31/100\n",
            "13/13 [==============================] - 9s 693ms/step - loss: 6.4095e-04 - val_loss: 0.0065\n",
            "Epoch 32/100\n",
            "13/13 [==============================] - 8s 672ms/step - loss: 7.1831e-04 - val_loss: 0.0072\n",
            "Epoch 33/100\n",
            "13/13 [==============================] - 13s 1s/step - loss: 8.6215e-04 - val_loss: 0.0045\n",
            "Epoch 34/100\n",
            "13/13 [==============================] - 7s 520ms/step - loss: 7.2985e-04 - val_loss: 0.0068\n",
            "Epoch 35/100\n",
            "13/13 [==============================] - 8s 599ms/step - loss: 6.6102e-04 - val_loss: 0.0059\n",
            "Epoch 36/100\n",
            "13/13 [==============================] - 8s 599ms/step - loss: 6.5191e-04 - val_loss: 0.0053\n",
            "Epoch 37/100\n",
            "13/13 [==============================] - 8s 579ms/step - loss: 6.1247e-04 - val_loss: 0.0066\n",
            "Epoch 38/100\n",
            "13/13 [==============================] - 7s 581ms/step - loss: 6.3662e-04 - val_loss: 0.0046\n",
            "Epoch 39/100\n",
            "13/13 [==============================] - 8s 558ms/step - loss: 7.3039e-04 - val_loss: 0.0039\n",
            "Epoch 40/100\n",
            "13/13 [==============================] - 8s 641ms/step - loss: 7.6927e-04 - val_loss: 0.0096\n",
            "Epoch 41/100\n",
            "13/13 [==============================] - 5s 383ms/step - loss: 7.2992e-04 - val_loss: 0.0048\n",
            "Epoch 42/100\n",
            "13/13 [==============================] - 6s 481ms/step - loss: 6.0596e-04 - val_loss: 0.0038\n",
            "Epoch 43/100\n",
            "13/13 [==============================] - 8s 601ms/step - loss: 7.0927e-04 - val_loss: 0.0103\n",
            "Epoch 44/100\n",
            "13/13 [==============================] - 6s 472ms/step - loss: 6.7302e-04 - val_loss: 0.0042\n",
            "Epoch 45/100\n",
            "13/13 [==============================] - 6s 483ms/step - loss: 6.1279e-04 - val_loss: 0.0065\n",
            "Epoch 46/100\n",
            "13/13 [==============================] - 7s 592ms/step - loss: 6.3063e-04 - val_loss: 0.0043\n",
            "Epoch 47/100\n",
            "13/13 [==============================] - 7s 549ms/step - loss: 5.6860e-04 - val_loss: 0.0052\n",
            "Epoch 48/100\n",
            "13/13 [==============================] - 6s 433ms/step - loss: 5.8844e-04 - val_loss: 0.0069\n",
            "Epoch 49/100\n",
            "13/13 [==============================] - 5s 385ms/step - loss: 5.7689e-04 - val_loss: 0.0050\n",
            "Epoch 50/100\n",
            "13/13 [==============================] - 6s 486ms/step - loss: 5.6243e-04 - val_loss: 0.0050\n",
            "Epoch 51/100\n",
            "13/13 [==============================] - 5s 380ms/step - loss: 5.5141e-04 - val_loss: 0.0050\n",
            "Epoch 52/100\n",
            "13/13 [==============================] - 6s 483ms/step - loss: 5.6312e-04 - val_loss: 0.0067\n",
            "Epoch 53/100\n",
            "13/13 [==============================] - 5s 376ms/step - loss: 5.8079e-04 - val_loss: 0.0056\n",
            "Epoch 54/100\n",
            "13/13 [==============================] - 6s 484ms/step - loss: 5.6177e-04 - val_loss: 0.0055\n",
            "Epoch 55/100\n",
            "13/13 [==============================] - 5s 381ms/step - loss: 5.4861e-04 - val_loss: 0.0048\n",
            "Epoch 56/100\n",
            "13/13 [==============================] - 5s 385ms/step - loss: 5.4702e-04 - val_loss: 0.0047\n",
            "Epoch 57/100\n",
            "13/13 [==============================] - 7s 538ms/step - loss: 5.3925e-04 - val_loss: 0.0057\n",
            "Epoch 58/100\n",
            "13/13 [==============================] - 5s 382ms/step - loss: 5.0808e-04 - val_loss: 0.0046\n",
            "Epoch 59/100\n",
            "13/13 [==============================] - 6s 477ms/step - loss: 5.0903e-04 - val_loss: 0.0073\n",
            "Epoch 60/100\n",
            "13/13 [==============================] - 5s 398ms/step - loss: 5.2386e-04 - val_loss: 0.0048\n",
            "Epoch 61/100\n",
            "13/13 [==============================] - 6s 477ms/step - loss: 4.9818e-04 - val_loss: 0.0047\n",
            "Epoch 62/100\n",
            "13/13 [==============================] - 5s 379ms/step - loss: 5.0797e-04 - val_loss: 0.0074\n",
            "Epoch 63/100\n",
            "13/13 [==============================] - 6s 444ms/step - loss: 5.4245e-04 - val_loss: 0.0052\n",
            "Epoch 64/100\n",
            "13/13 [==============================] - 5s 378ms/step - loss: 4.9427e-04 - val_loss: 0.0035\n",
            "Epoch 65/100\n",
            "13/13 [==============================] - 5s 380ms/step - loss: 4.9426e-04 - val_loss: 0.0040\n",
            "Epoch 66/100\n",
            "13/13 [==============================] - 7s 545ms/step - loss: 4.9218e-04 - val_loss: 0.0044\n",
            "Epoch 67/100\n",
            "13/13 [==============================] - 5s 379ms/step - loss: 4.7795e-04 - val_loss: 0.0045\n",
            "Epoch 68/100\n",
            "13/13 [==============================] - 6s 477ms/step - loss: 4.7725e-04 - val_loss: 0.0032\n",
            "Epoch 69/100\n",
            "13/13 [==============================] - 5s 381ms/step - loss: 4.8027e-04 - val_loss: 0.0041\n",
            "Epoch 70/100\n",
            "13/13 [==============================] - 6s 479ms/step - loss: 4.9921e-04 - val_loss: 0.0052\n",
            "Epoch 71/100\n",
            "13/13 [==============================] - 6s 447ms/step - loss: 5.0306e-04 - val_loss: 0.0043\n",
            "Epoch 72/100\n",
            "13/13 [==============================] - 6s 472ms/step - loss: 4.8859e-04 - val_loss: 0.0041\n",
            "Epoch 73/100\n",
            "13/13 [==============================] - 5s 382ms/step - loss: 6.0264e-04 - val_loss: 0.0026\n",
            "Epoch 74/100\n",
            "13/13 [==============================] - 5s 378ms/step - loss: 5.6425e-04 - val_loss: 0.0056\n",
            "Epoch 75/100\n",
            "13/13 [==============================] - 7s 564ms/step - loss: 4.9661e-04 - val_loss: 0.0023\n",
            "Epoch 76/100\n",
            "13/13 [==============================] - 6s 462ms/step - loss: 5.1170e-04 - val_loss: 0.0044\n",
            "Epoch 77/100\n",
            "13/13 [==============================] - 6s 480ms/step - loss: 4.6922e-04 - val_loss: 0.0036\n",
            "Epoch 78/100\n",
            "13/13 [==============================] - 5s 388ms/step - loss: 4.6093e-04 - val_loss: 0.0030\n",
            "Epoch 79/100\n",
            "13/13 [==============================] - 6s 461ms/step - loss: 4.3629e-04 - val_loss: 0.0050\n",
            "Epoch 80/100\n",
            "13/13 [==============================] - 5s 393ms/step - loss: 5.1527e-04 - val_loss: 0.0029\n",
            "Epoch 81/100\n",
            "13/13 [==============================] - 5s 386ms/step - loss: 4.8815e-04 - val_loss: 0.0034\n",
            "Epoch 82/100\n",
            "13/13 [==============================] - 6s 469ms/step - loss: 4.8772e-04 - val_loss: 0.0033\n",
            "Epoch 83/100\n",
            "13/13 [==============================] - 5s 381ms/step - loss: 4.7390e-04 - val_loss: 0.0031\n",
            "Epoch 84/100\n",
            "13/13 [==============================] - 6s 482ms/step - loss: 4.6670e-04 - val_loss: 0.0043\n",
            "Epoch 85/100\n",
            "13/13 [==============================] - 5s 375ms/step - loss: 4.2028e-04 - val_loss: 0.0033\n",
            "Epoch 86/100\n",
            "13/13 [==============================] - 6s 478ms/step - loss: 4.1402e-04 - val_loss: 0.0041\n",
            "Epoch 87/100\n",
            "13/13 [==============================] - 5s 378ms/step - loss: 4.6412e-04 - val_loss: 0.0022\n",
            "Epoch 88/100\n",
            "13/13 [==============================] - 5s 398ms/step - loss: 4.1361e-04 - val_loss: 0.0048\n",
            "Epoch 89/100\n",
            "13/13 [==============================] - 6s 456ms/step - loss: 3.9507e-04 - val_loss: 0.0031\n",
            "Epoch 90/100\n",
            "13/13 [==============================] - 5s 383ms/step - loss: 3.9336e-04 - val_loss: 0.0042\n",
            "Epoch 91/100\n",
            "13/13 [==============================] - 6s 481ms/step - loss: 3.8519e-04 - val_loss: 0.0031\n",
            "Epoch 92/100\n",
            "13/13 [==============================] - 5s 390ms/step - loss: 3.7561e-04 - val_loss: 0.0040\n",
            "Epoch 93/100\n",
            "13/13 [==============================] - 6s 480ms/step - loss: 3.9958e-04 - val_loss: 0.0020\n",
            "Epoch 94/100\n",
            "13/13 [==============================] - 5s 387ms/step - loss: 3.8776e-04 - val_loss: 0.0019\n",
            "Epoch 95/100\n",
            "13/13 [==============================] - 7s 566ms/step - loss: 3.8760e-04 - val_loss: 0.0028\n",
            "Epoch 96/100\n",
            "13/13 [==============================] - 5s 384ms/step - loss: 3.7563e-04 - val_loss: 0.0032\n",
            "Epoch 97/100\n",
            "13/13 [==============================] - 5s 421ms/step - loss: 3.3875e-04 - val_loss: 0.0037\n",
            "Epoch 98/100\n",
            "13/13 [==============================] - 6s 427ms/step - loss: 3.4606e-04 - val_loss: 0.0039\n",
            "Epoch 99/100\n",
            "13/13 [==============================] - 5s 380ms/step - loss: 3.1642e-04 - val_loss: 0.0024\n",
            "Epoch 100/100\n",
            "13/13 [==============================] - 6s 481ms/step - loss: 3.4892e-04 - val_loss: 0.0042\n"
          ]
        },
        {
          "output_type": "execute_result",
          "data": {
            "text/plain": [
              "<tensorflow.python.keras.callbacks.History at 0x7febfd2200d0>"
            ]
          },
          "metadata": {},
          "execution_count": 21
        }
      ]
    },
    {
      "cell_type": "code",
      "source": [
        "train_predict = model.predict(x_train)\n",
        "test_predict = model.predict(x_test)"
      ],
      "metadata": {
        "id": "Fi3CWiahGBYZ"
      },
      "execution_count": null,
      "outputs": []
    },
    {
      "cell_type": "code",
      "source": [
        "train_predict = scaler.inverse_transform(train_predict)\n",
        "test_predict = scaler.inverse_transform(test_predict)"
      ],
      "metadata": {
        "id": "S1knZoZqGBb1"
      },
      "execution_count": null,
      "outputs": []
    },
    {
      "cell_type": "code",
      "source": [
        "math.sqrt(mean_squared_error(y_train, train_predict))"
      ],
      "metadata": {
        "colab": {
          "base_uri": "https://localhost:8080/"
        },
        "id": "YLHDra_mGBmT",
        "outputId": "68872bfb-f046-4e19-cd9f-558bd954a77e"
      },
      "execution_count": null,
      "outputs": [
        {
          "output_type": "execute_result",
          "data": {
            "text/plain": [
              "800.0901469653561"
            ]
          },
          "metadata": {},
          "execution_count": 24
        }
      ]
    },
    {
      "cell_type": "code",
      "source": [
        "math.sqrt(mean_squared_error(y_test, test_predict))"
      ],
      "metadata": {
        "colab": {
          "base_uri": "https://localhost:8080/"
        },
        "id": "FzrXgX4tGBrb",
        "outputId": "9ee800f9-6bd5-402f-d6cf-34f6590eb754"
      },
      "execution_count": null,
      "outputs": [
        {
          "output_type": "execute_result",
          "data": {
            "text/plain": [
              "1317.44627777293"
            ]
          },
          "metadata": {},
          "execution_count": 25
        }
      ]
    },
    {
      "cell_type": "code",
      "source": [
        "#Plotting\n",
        "\n",
        "#Shift train prediction for plotting\n",
        "look_back = 100\n",
        "trainPredictPlot = np.empty_like(df_close)\n",
        "trainPredictPlot[:,:] = np.nan\n",
        "trainPredictPlot[look_back:len(train_predict) + look_back, :] = train_predict\n",
        "\n",
        "#Shift test prediction for plotting\n",
        "testPredictPlot = np.empty_like(df_close)\n",
        "testPredictPlot[:,:] = np.nan\n",
        "testPredictPlot[len(train_predict) + (look_back * 2)+1:len(df_close) - 1, :] = test_predict\n",
        "\n",
        "#Plot baseline and predictions\n",
        "plt.plot(scaler.inverse_transform(df_close))\n",
        "plt.plot(trainPredictPlot)\n",
        "plt.plot(testPredictPlot)\n",
        "plt.show()"
      ],
      "metadata": {
        "colab": {
          "base_uri": "https://localhost:8080/",
          "height": 265
        },
        "id": "ue6fBF3IGvus",
        "outputId": "e8feeaa4-ab5d-4c70-cf32-a56c0d043a0e"
      },
      "execution_count": null,
      "outputs": [
        {
          "output_type": "display_data",
          "data": {
            "text/plain": [
              "<Figure size 432x288 with 1 Axes>"
            ],
            "image/png": "[encoded data removed]"
          },
          "metadata": {
            "needs_background": "light"
          }
        }
      ]
    },
    {
      "cell_type": "markdown",
      "source": [
        "Predict the next 30 days Stock Price\n"
      ],
      "metadata": {
        "id": "DXFAaFfYG2t0"
      }
    },
    {
      "cell_type": "code",
      "source": [
        "len(test_data), x_test.shape\n"
      ],
      "metadata": {
        "colab": {
          "base_uri": "https://localhost:8080/"
        },
        "id": "3ApXELy6GvyG",
        "outputId": "36038d4d-fee8-43b0-ee77-c0f58902fbb4"
      },
      "execution_count": null,
      "outputs": [
        {
          "output_type": "execute_result",
          "data": {
            "text/plain": [
              "(307, (206, 100, 1))"
            ]
          },
          "metadata": {},
          "execution_count": 27
        }
      ]
    },
    {
      "cell_type": "code",
      "source": [
        "x_input = test_data[207:].reshape(1,-1)\n",
        "x_input.shape"
      ],
      "metadata": {
        "colab": {
          "base_uri": "https://localhost:8080/"
        },
        "id": "7fAqyxZbGv1Z",
        "outputId": "bef56618-59f3-4279-be15-b8905e5f6bf2"
      },
      "execution_count": null,
      "outputs": [
        {
          "output_type": "execute_result",
          "data": {
            "text/plain": [
              "(1, 100)"
            ]
          },
          "metadata": {},
          "execution_count": 28
        }
      ]
    },
    {
      "cell_type": "code",
      "source": [
        "temp_input = list(x_input)\n",
        "temp_input = temp_input[0].tolist()"
      ],
      "metadata": {
        "id": "_XFHa93WG9hL"
      },
      "execution_count": null,
      "outputs": []
    },
    {
      "cell_type": "code",
      "source": [
        "lst_output=[]\n",
        "n_steps=100\n",
        "nextNumberOfDays = 30\n",
        "i=0\n",
        "\n",
        "while(i<nextNumberOfDays):\n",
        "    \n",
        "    if(len(temp_input)>100):\n",
        "        x_input=np.array(temp_input[1:])\n",
        "        print(\"{} day input {}\".format(i,x_input))\n",
        "        x_input=x_input.reshape(1,-1)\n",
        "        x_input = x_input.reshape((1, n_steps, 1))\n",
        "        yhat = model.predict(x_input, verbose=0)\n",
        "        print(\"{} day output {}\".format(i,yhat))\n",
        "        temp_input.extend(yhat[0].tolist())\n",
        "        temp_input=temp_input[1:]\n",
        "        lst_output.extend(yhat.tolist())\n",
        "        i=i+1\n",
        "    else:\n",
        "        x_input = x_input.reshape((1, n_steps,1))\n",
        "        yhat = model.predict(x_input, verbose=0)\n",
        "        print(yhat[0])\n",
        "        temp_input.extend(yhat[0].tolist())\n",
        "        print(len(temp_input))\n",
        "        lst_output.extend(yhat.tolist())\n",
        "        i=i+1\n",
        "    \n",
        "\n",
        "print(lst_output)"
      ],
      "metadata": {
        "colab": {
          "base_uri": "https://localhost:8080/"
        },
        "id": "kMgpFboNG9l-",
        "outputId": "f3fec41a-a678-490f-d3c2-f7b2842dbf53"
      },
      "execution_count": null,
      "outputs": [
        {
          "output_type": "stream",
          "name": "stdout",
          "text": [
            "[0.8986633]\n",
            "101\n",
            "1 day input [0.94816663 0.9478738  0.94456879 0.93260407 0.92796036 0.939716\n",
            " 0.97577765 0.93507229 0.93636921 0.93590899 0.93047045 0.92603602\n",
            " 0.91348555 0.88436843 0.89114567 0.8609409  0.83408293 0.81220327\n",
            " 0.84642422 0.86491522 0.87269654 0.85249028 0.8541218  0.86847118\n",
            " 0.88315526 0.88637653 0.89763007 0.88980697 0.88072882 0.91118463\n",
            " 0.8962495  0.8619449  0.83805724 0.8176418  0.81283079 0.76463703\n",
            " 0.75417831 0.7765181  0.77388248 0.74999482 0.71640139 0.5851654\n",
            " 0.6181313  0.5423683  0.57776065 0.50279251 0.49634993 0.46330038\n",
            " 0.42079615 0.50467508 0.39264125 0.44229929 0.55847473 0.54504569\n",
            " 0.54454369 0.51513375 0.5848307  0.55696863 0.55445854 0.6620997\n",
            " 0.65042781 0.67368794 0.64791772 0.61503546 0.63026342 0.67707661\n",
            " 0.69364326 0.6882465  0.79387957 0.7999875  0.83855924 0.84922714\n",
            " 0.84788844 0.84688434 0.86803608 0.84250843 0.86360165 0.86368529\n",
            " 0.90198096 0.9474387  0.95987202 0.87902192 0.90503482 0.85441462\n",
            " 0.87403524 0.85843081 0.83178201 0.85253205 0.85884916 0.85073323\n",
            " 0.844458   0.862447   0.88478678 0.87821873 0.92503192 0.9378752\n",
            " 0.94285362 0.97477365 0.97636329 0.89866328]\n",
            "1 day output [[0.8818489]]\n",
            "2 day input [0.9478738  0.94456879 0.93260407 0.92796036 0.939716   0.97577765\n",
            " 0.93507229 0.93636921 0.93590899 0.93047045 0.92603602 0.91348555\n",
            " 0.88436843 0.89114567 0.8609409  0.83408293 0.81220327 0.84642422\n",
            " 0.86491522 0.87269654 0.85249028 0.8541218  0.86847118 0.88315526\n",
            " 0.88637653 0.89763007 0.88980697 0.88072882 0.91118463 0.8962495\n",
            " 0.8619449  0.83805724 0.8176418  0.81283079 0.76463703 0.75417831\n",
            " 0.7765181  0.77388248 0.74999482 0.71640139 0.5851654  0.6181313\n",
            " 0.5423683  0.57776065 0.50279251 0.49634993 0.46330038 0.42079615\n",
            " 0.50467508 0.39264125 0.44229929 0.55847473 0.54504569 0.54454369\n",
            " 0.51513375 0.5848307  0.55696863 0.55445854 0.6620997  0.65042781\n",
            " 0.67368794 0.64791772 0.61503546 0.63026342 0.67707661 0.69364326\n",
            " 0.6882465  0.79387957 0.7999875  0.83855924 0.84922714 0.84788844\n",
            " 0.84688434 0.86803608 0.84250843 0.86360165 0.86368529 0.90198096\n",
            " 0.9474387  0.95987202 0.87902192 0.90503482 0.85441462 0.87403524\n",
            " 0.85843081 0.83178201 0.85253205 0.85884916 0.85073323 0.844458\n",
            " 0.862447   0.88478678 0.87821873 0.92503192 0.9378752  0.94285362\n",
            " 0.97477365 0.97636329 0.89866328 0.88184887]\n",
            "2 day output [[0.85408336]]\n",
            "3 day input [0.94456879 0.93260407 0.92796036 0.939716   0.97577765 0.93507229\n",
            " 0.93636921 0.93590899 0.93047045 0.92603602 0.91348555 0.88436843\n",
            " 0.89114567 0.8609409  0.83408293 0.81220327 0.84642422 0.86491522\n",
            " 0.87269654 0.85249028 0.8541218  0.86847118 0.88315526 0.88637653\n",
            " 0.89763007 0.88980697 0.88072882 0.91118463 0.8962495  0.8619449\n",
            " 0.83805724 0.8176418  0.81283079 0.76463703 0.75417831 0.7765181\n",
            " 0.77388248 0.74999482 0.71640139 0.5851654  0.6181313  0.5423683\n",
            " 0.57776065 0.50279251 0.49634993 0.46330038 0.42079615 0.50467508\n",
            " 0.39264125 0.44229929 0.55847473 0.54504569 0.54454369 0.51513375\n",
            " 0.5848307  0.55696863 0.55445854 0.6620997  0.65042781 0.67368794\n",
            " 0.64791772 0.61503546 0.63026342 0.67707661 0.69364326 0.6882465\n",
            " 0.79387957 0.7999875  0.83855924 0.84922714 0.84788844 0.84688434\n",
            " 0.86803608 0.84250843 0.86360165 0.86368529 0.90198096 0.9474387\n",
            " 0.95987202 0.87902192 0.90503482 0.85441462 0.87403524 0.85843081\n",
            " 0.83178201 0.85253205 0.85884916 0.85073323 0.844458   0.862447\n",
            " 0.88478678 0.87821873 0.92503192 0.9378752  0.94285362 0.97477365\n",
            " 0.97636329 0.89866328 0.88184887 0.85408336]\n",
            "3 day output [[0.82361215]]\n",
            "4 day input [0.93260407 0.92796036 0.939716   0.97577765 0.93507229 0.93636921\n",
            " 0.93590899 0.93047045 0.92603602 0.91348555 0.88436843 0.89114567\n",
            " 0.8609409  0.83408293 0.81220327 0.84642422 0.86491522 0.87269654\n",
            " 0.85249028 0.8541218  0.86847118 0.88315526 0.88637653 0.89763007\n",
            " 0.88980697 0.88072882 0.91118463 0.8962495  0.8619449  0.83805724\n",
            " 0.8176418  0.81283079 0.76463703 0.75417831 0.7765181  0.77388248\n",
            " 0.74999482 0.71640139 0.5851654  0.6181313  0.5423683  0.57776065\n",
            " 0.50279251 0.49634993 0.46330038 0.42079615 0.50467508 0.39264125\n",
            " 0.44229929 0.55847473 0.54504569 0.54454369 0.51513375 0.5848307\n",
            " 0.55696863 0.55445854 0.6620997  0.65042781 0.67368794 0.64791772\n",
            " 0.61503546 0.63026342 0.67707661 0.69364326 0.6882465  0.79387957\n",
            " 0.7999875  0.83855924 0.84922714 0.84788844 0.84688434 0.86803608\n",
            " 0.84250843 0.86360165 0.86368529 0.90198096 0.9474387  0.95987202\n",
            " 0.87902192 0.90503482 0.85441462 0.87403524 0.85843081 0.83178201\n",
            " 0.85253205 0.85884916 0.85073323 0.844458   0.862447   0.88478678\n",
            " 0.87821873 0.92503192 0.9378752  0.94285362 0.97477365 0.97636329\n",
            " 0.89866328 0.88184887 0.85408336 0.82361215]\n",
            "4 day output [[0.79315656]]\n",
            "5 day input [0.92796036 0.939716   0.97577765 0.93507229 0.93636921 0.93590899\n",
            " 0.93047045 0.92603602 0.91348555 0.88436843 0.89114567 0.8609409\n",
            " 0.83408293 0.81220327 0.84642422 0.86491522 0.87269654 0.85249028\n",
            " 0.8541218  0.86847118 0.88315526 0.88637653 0.89763007 0.88980697\n",
            " 0.88072882 0.91118463 0.8962495  0.8619449  0.83805724 0.8176418\n",
            " 0.81283079 0.76463703 0.75417831 0.7765181  0.77388248 0.74999482\n",
            " 0.71640139 0.5851654  0.6181313  0.5423683  0.57776065 0.50279251\n",
            " 0.49634993 0.46330038 0.42079615 0.50467508 0.39264125 0.44229929\n",
            " 0.55847473 0.54504569 0.54454369 0.51513375 0.5848307  0.55696863\n",
            " 0.55445854 0.6620997  0.65042781 0.67368794 0.64791772 0.61503546\n",
            " 0.63026342 0.67707661 0.69364326 0.6882465  0.79387957 0.7999875\n",
            " 0.83855924 0.84922714 0.84788844 0.84688434 0.86803608 0.84250843\n",
            " 0.86360165 0.86368529 0.90198096 0.9474387  0.95987202 0.87902192\n",
            " 0.90503482 0.85441462 0.87403524 0.85843081 0.83178201 0.85253205\n",
            " 0.85884916 0.85073323 0.844458   0.862447   0.88478678 0.87821873\n",
            " 0.92503192 0.9378752  0.94285362 0.97477365 0.97636329 0.89866328\n",
            " 0.88184887 0.85408336 0.82361215 0.79315656]\n",
            "5 day output [[0.76380455]]\n",
            "6 day input [0.939716   0.97577765 0.93507229 0.93636921 0.93590899 0.93047045\n",
            " 0.92603602 0.91348555 0.88436843 0.89114567 0.8609409  0.83408293\n",
            " 0.81220327 0.84642422 0.86491522 0.87269654 0.85249028 0.8541218\n",
            " 0.86847118 0.88315526 0.88637653 0.89763007 0.88980697 0.88072882\n",
            " 0.91118463 0.8962495  0.8619449  0.83805724 0.8176418  0.81283079\n",
            " 0.76463703 0.75417831 0.7765181  0.77388248 0.74999482 0.71640139\n",
            " 0.5851654  0.6181313  0.5423683  0.57776065 0.50279251 0.49634993\n",
            " 0.46330038 0.42079615 0.50467508 0.39264125 0.44229929 0.55847473\n",
            " 0.54504569 0.54454369 0.51513375 0.5848307  0.55696863 0.55445854\n",
            " 0.6620997  0.65042781 0.67368794 0.64791772 0.61503546 0.63026342\n",
            " 0.67707661 0.69364326 0.6882465  0.79387957 0.7999875  0.83855924\n",
            " 0.84922714 0.84788844 0.84688434 0.86803608 0.84250843 0.86360165\n",
            " 0.86368529 0.90198096 0.9474387  0.95987202 0.87902192 0.90503482\n",
            " 0.85441462 0.87403524 0.85843081 0.83178201 0.85253205 0.85884916\n",
            " 0.85073323 0.844458   0.862447   0.88478678 0.87821873 0.92503192\n",
            " 0.9378752  0.94285362 0.97477365 0.97636329 0.89866328 0.88184887\n",
            " 0.85408336 0.82361215 0.79315656 0.76380455]\n",
            "6 day output [[0.73608637]]\n",
            "7 day input [0.97577765 0.93507229 0.93636921 0.93590899 0.93047045 0.92603602\n",
            " 0.91348555 0.88436843 0.89114567 0.8609409  0.83408293 0.81220327\n",
            " 0.84642422 0.86491522 0.87269654 0.85249028 0.8541218  0.86847118\n",
            " 0.88315526 0.88637653 0.89763007 0.88980697 0.88072882 0.91118463\n",
            " 0.8962495  0.8619449  0.83805724 0.8176418  0.81283079 0.76463703\n",
            " 0.75417831 0.7765181  0.77388248 0.74999482 0.71640139 0.5851654\n",
            " 0.6181313  0.5423683  0.57776065 0.50279251 0.49634993 0.46330038\n",
            " 0.42079615 0.50467508 0.39264125 0.44229929 0.55847473 0.54504569\n",
            " 0.54454369 0.51513375 0.5848307  0.55696863 0.55445854 0.6620997\n",
            " 0.65042781 0.67368794 0.64791772 0.61503546 0.63026342 0.67707661\n",
            " 0.69364326 0.6882465  0.79387957 0.7999875  0.83855924 0.84922714\n",
            " 0.84788844 0.84688434 0.86803608 0.84250843 0.86360165 0.86368529\n",
            " 0.90198096 0.9474387  0.95987202 0.87902192 0.90503482 0.85441462\n",
            " 0.87403524 0.85843081 0.83178201 0.85253205 0.85884916 0.85073323\n",
            " 0.844458   0.862447   0.88478678 0.87821873 0.92503192 0.9378752\n",
            " 0.94285362 0.97477365 0.97636329 0.89866328 0.88184887 0.85408336\n",
            " 0.82361215 0.79315656 0.76380455 0.73608637]\n",
            "7 day output [[0.7102456]]\n",
            "8 day input [0.93507229 0.93636921 0.93590899 0.93047045 0.92603602 0.91348555\n",
            " 0.88436843 0.89114567 0.8609409  0.83408293 0.81220327 0.84642422\n",
            " 0.86491522 0.87269654 0.85249028 0.8541218  0.86847118 0.88315526\n",
            " 0.88637653 0.89763007 0.88980697 0.88072882 0.91118463 0.8962495\n",
            " 0.8619449  0.83805724 0.8176418  0.81283079 0.76463703 0.75417831\n",
            " 0.7765181  0.77388248 0.74999482 0.71640139 0.5851654  0.6181313\n",
            " 0.5423683  0.57776065 0.50279251 0.49634993 0.46330038 0.42079615\n",
            " 0.50467508 0.39264125 0.44229929 0.55847473 0.54504569 0.54454369\n",
            " 0.51513375 0.5848307  0.55696863 0.55445854 0.6620997  0.65042781\n",
            " 0.67368794 0.64791772 0.61503546 0.63026342 0.67707661 0.69364326\n",
            " 0.6882465  0.79387957 0.7999875  0.83855924 0.84922714 0.84788844\n",
            " 0.84688434 0.86803608 0.84250843 0.86360165 0.86368529 0.90198096\n",
            " 0.9474387  0.95987202 0.87902192 0.90503482 0.85441462 0.87403524\n",
            " 0.85843081 0.83178201 0.85253205 0.85884916 0.85073323 0.844458\n",
            " 0.862447   0.88478678 0.87821873 0.92503192 0.9378752  0.94285362\n",
            " 0.97477365 0.97636329 0.89866328 0.88184887 0.85408336 0.82361215\n",
            " 0.79315656 0.76380455 0.73608637 0.71024561]\n",
            "8 day output [[0.6863427]]\n",
            "9 day input [0.93636921 0.93590899 0.93047045 0.92603602 0.91348555 0.88436843\n",
            " 0.89114567 0.8609409  0.83408293 0.81220327 0.84642422 0.86491522\n",
            " 0.87269654 0.85249028 0.8541218  0.86847118 0.88315526 0.88637653\n",
            " 0.89763007 0.88980697 0.88072882 0.91118463 0.8962495  0.8619449\n",
            " 0.83805724 0.8176418  0.81283079 0.76463703 0.75417831 0.7765181\n",
            " 0.77388248 0.74999482 0.71640139 0.5851654  0.6181313  0.5423683\n",
            " 0.57776065 0.50279251 0.49634993 0.46330038 0.42079615 0.50467508\n",
            " 0.39264125 0.44229929 0.55847473 0.54504569 0.54454369 0.51513375\n",
            " 0.5848307  0.55696863 0.55445854 0.6620997  0.65042781 0.67368794\n",
            " 0.64791772 0.61503546 0.63026342 0.67707661 0.69364326 0.6882465\n",
            " 0.79387957 0.7999875  0.83855924 0.84922714 0.84788844 0.84688434\n",
            " 0.86803608 0.84250843 0.86360165 0.86368529 0.90198096 0.9474387\n",
            " 0.95987202 0.87902192 0.90503482 0.85441462 0.87403524 0.85843081\n",
            " 0.83178201 0.85253205 0.85884916 0.85073323 0.844458   0.862447\n",
            " 0.88478678 0.87821873 0.92503192 0.9378752  0.94285362 0.97477365\n",
            " 0.97636329 0.89866328 0.88184887 0.85408336 0.82361215 0.79315656\n",
            " 0.76380455 0.73608637 0.71024561 0.68634272]\n",
            "9 day output [[0.6643158]]\n",
            "10 day input [0.93590899 0.93047045 0.92603602 0.91348555 0.88436843 0.89114567\n",
            " 0.8609409  0.83408293 0.81220327 0.84642422 0.86491522 0.87269654\n",
            " 0.85249028 0.8541218  0.86847118 0.88315526 0.88637653 0.89763007\n",
            " 0.88980697 0.88072882 0.91118463 0.8962495  0.8619449  0.83805724\n",
            " 0.8176418  0.81283079 0.76463703 0.75417831 0.7765181  0.77388248\n",
            " 0.74999482 0.71640139 0.5851654  0.6181313  0.5423683  0.57776065\n",
            " 0.50279251 0.49634993 0.46330038 0.42079615 0.50467508 0.39264125\n",
            " 0.44229929 0.55847473 0.54504569 0.54454369 0.51513375 0.5848307\n",
            " 0.55696863 0.55445854 0.6620997  0.65042781 0.67368794 0.64791772\n",
            " 0.61503546 0.63026342 0.67707661 0.69364326 0.6882465  0.79387957\n",
            " 0.7999875  0.83855924 0.84922714 0.84788844 0.84688434 0.86803608\n",
            " 0.84250843 0.86360165 0.86368529 0.90198096 0.9474387  0.95987202\n",
            " 0.87902192 0.90503482 0.85441462 0.87403524 0.85843081 0.83178201\n",
            " 0.85253205 0.85884916 0.85073323 0.844458   0.862447   0.88478678\n",
            " 0.87821873 0.92503192 0.9378752  0.94285362 0.97477365 0.97636329\n",
            " 0.89866328 0.88184887 0.85408336 0.82361215 0.79315656 0.76380455\n",
            " 0.73608637 0.71024561 0.68634272 0.66431582]\n",
            "10 day output [[0.64402527]]\n",
            "11 day input [0.93047045 0.92603602 0.91348555 0.88436843 0.89114567 0.8609409\n",
            " 0.83408293 0.81220327 0.84642422 0.86491522 0.87269654 0.85249028\n",
            " 0.8541218  0.86847118 0.88315526 0.88637653 0.89763007 0.88980697\n",
            " 0.88072882 0.91118463 0.8962495  0.8619449  0.83805724 0.8176418\n",
            " 0.81283079 0.76463703 0.75417831 0.7765181  0.77388248 0.74999482\n",
            " 0.71640139 0.5851654  0.6181313  0.5423683  0.57776065 0.50279251\n",
            " 0.49634993 0.46330038 0.42079615 0.50467508 0.39264125 0.44229929\n",
            " 0.55847473 0.54504569 0.54454369 0.51513375 0.5848307  0.55696863\n",
            " 0.55445854 0.6620997  0.65042781 0.67368794 0.64791772 0.61503546\n",
            " 0.63026342 0.67707661 0.69364326 0.6882465  0.79387957 0.7999875\n",
            " 0.83855924 0.84922714 0.84788844 0.84688434 0.86803608 0.84250843\n",
            " 0.86360165 0.86368529 0.90198096 0.9474387  0.95987202 0.87902192\n",
            " 0.90503482 0.85441462 0.87403524 0.85843081 0.83178201 0.85253205\n",
            " 0.85884916 0.85073323 0.844458   0.862447   0.88478678 0.87821873\n",
            " 0.92503192 0.9378752  0.94285362 0.97477365 0.97636329 0.89866328\n",
            " 0.88184887 0.85408336 0.82361215 0.79315656 0.76380455 0.73608637\n",
            " 0.71024561 0.68634272 0.66431582 0.64402527]\n",
            "11 day output [[0.6252842]]\n",
            "12 day input [0.92603602 0.91348555 0.88436843 0.89114567 0.8609409  0.83408293\n",
            " 0.81220327 0.84642422 0.86491522 0.87269654 0.85249028 0.8541218\n",
            " 0.86847118 0.88315526 0.88637653 0.89763007 0.88980697 0.88072882\n",
            " 0.91118463 0.8962495  0.8619449  0.83805724 0.8176418  0.81283079\n",
            " 0.76463703 0.75417831 0.7765181  0.77388248 0.74999482 0.71640139\n",
            " 0.5851654  0.6181313  0.5423683  0.57776065 0.50279251 0.49634993\n",
            " 0.46330038 0.42079615 0.50467508 0.39264125 0.44229929 0.55847473\n",
            " 0.54504569 0.54454369 0.51513375 0.5848307  0.55696863 0.55445854\n",
            " 0.6620997  0.65042781 0.67368794 0.64791772 0.61503546 0.63026342\n",
            " 0.67707661 0.69364326 0.6882465  0.79387957 0.7999875  0.83855924\n",
            " 0.84922714 0.84788844 0.84688434 0.86803608 0.84250843 0.86360165\n",
            " 0.86368529 0.90198096 0.9474387  0.95987202 0.87902192 0.90503482\n",
            " 0.85441462 0.87403524 0.85843081 0.83178201 0.85253205 0.85884916\n",
            " 0.85073323 0.844458   0.862447   0.88478678 0.87821873 0.92503192\n",
            " 0.9378752  0.94285362 0.97477365 0.97636329 0.89866328 0.88184887\n",
            " 0.85408336 0.82361215 0.79315656 0.76380455 0.73608637 0.71024561\n",
            " 0.68634272 0.66431582 0.64402527 0.62528419]\n",
            "12 day output [[0.6078815]]\n",
            "13 day input [0.91348555 0.88436843 0.89114567 0.8609409  0.83408293 0.81220327\n",
            " 0.84642422 0.86491522 0.87269654 0.85249028 0.8541218  0.86847118\n",
            " 0.88315526 0.88637653 0.89763007 0.88980697 0.88072882 0.91118463\n",
            " 0.8962495  0.8619449  0.83805724 0.8176418  0.81283079 0.76463703\n",
            " 0.75417831 0.7765181  0.77388248 0.74999482 0.71640139 0.5851654\n",
            " 0.6181313  0.5423683  0.57776065 0.50279251 0.49634993 0.46330038\n",
            " 0.42079615 0.50467508 0.39264125 0.44229929 0.55847473 0.54504569\n",
            " 0.54454369 0.51513375 0.5848307  0.55696863 0.55445854 0.6620997\n",
            " 0.65042781 0.67368794 0.64791772 0.61503546 0.63026342 0.67707661\n",
            " 0.69364326 0.6882465  0.79387957 0.7999875  0.83855924 0.84922714\n",
            " 0.84788844 0.84688434 0.86803608 0.84250843 0.86360165 0.86368529\n",
            " 0.90198096 0.9474387  0.95987202 0.87902192 0.90503482 0.85441462\n",
            " 0.87403524 0.85843081 0.83178201 0.85253205 0.85884916 0.85073323\n",
            " 0.844458   0.862447   0.88478678 0.87821873 0.92503192 0.9378752\n",
            " 0.94285362 0.97477365 0.97636329 0.89866328 0.88184887 0.85408336\n",
            " 0.82361215 0.79315656 0.76380455 0.73608637 0.71024561 0.68634272\n",
            " 0.66431582 0.64402527 0.62528419 0.60788149]\n",
            "13 day output [[0.59159976]]\n",
            "14 day input [0.88436843 0.89114567 0.8609409  0.83408293 0.81220327 0.84642422\n",
            " 0.86491522 0.87269654 0.85249028 0.8541218  0.86847118 0.88315526\n",
            " 0.88637653 0.89763007 0.88980697 0.88072882 0.91118463 0.8962495\n",
            " 0.8619449  0.83805724 0.8176418  0.81283079 0.76463703 0.75417831\n",
            " 0.7765181  0.77388248 0.74999482 0.71640139 0.5851654  0.6181313\n",
            " 0.5423683  0.57776065 0.50279251 0.49634993 0.46330038 0.42079615\n",
            " 0.50467508 0.39264125 0.44229929 0.55847473 0.54504569 0.54454369\n",
            " 0.51513375 0.5848307  0.55696863 0.55445854 0.6620997  0.65042781\n",
            " 0.67368794 0.64791772 0.61503546 0.63026342 0.67707661 0.69364326\n",
            " 0.6882465  0.79387957 0.7999875  0.83855924 0.84922714 0.84788844\n",
            " 0.84688434 0.86803608 0.84250843 0.86360165 0.86368529 0.90198096\n",
            " 0.9474387  0.95987202 0.87902192 0.90503482 0.85441462 0.87403524\n",
            " 0.85843081 0.83178201 0.85253205 0.85884916 0.85073323 0.844458\n",
            " 0.862447   0.88478678 0.87821873 0.92503192 0.9378752  0.94285362\n",
            " 0.97477365 0.97636329 0.89866328 0.88184887 0.85408336 0.82361215\n",
            " 0.79315656 0.76380455 0.73608637 0.71024561 0.68634272 0.66431582\n",
            " 0.64402527 0.62528419 0.60788149 0.59159976]\n",
            "14 day output [[0.5762276]]\n",
            "15 day input [0.89114567 0.8609409  0.83408293 0.81220327 0.84642422 0.86491522\n",
            " 0.87269654 0.85249028 0.8541218  0.86847118 0.88315526 0.88637653\n",
            " 0.89763007 0.88980697 0.88072882 0.91118463 0.8962495  0.8619449\n",
            " 0.83805724 0.8176418  0.81283079 0.76463703 0.75417831 0.7765181\n",
            " 0.77388248 0.74999482 0.71640139 0.5851654  0.6181313  0.5423683\n",
            " 0.57776065 0.50279251 0.49634993 0.46330038 0.42079615 0.50467508\n",
            " 0.39264125 0.44229929 0.55847473 0.54504569 0.54454369 0.51513375\n",
            " 0.5848307  0.55696863 0.55445854 0.6620997  0.65042781 0.67368794\n",
            " 0.64791772 0.61503546 0.63026342 0.67707661 0.69364326 0.6882465\n",
            " 0.79387957 0.7999875  0.83855924 0.84922714 0.84788844 0.84688434\n",
            " 0.86803608 0.84250843 0.86360165 0.86368529 0.90198096 0.9474387\n",
            " 0.95987202 0.87902192 0.90503482 0.85441462 0.87403524 0.85843081\n",
            " 0.83178201 0.85253205 0.85884916 0.85073323 0.844458   0.862447\n",
            " 0.88478678 0.87821873 0.92503192 0.9378752  0.94285362 0.97477365\n",
            " 0.97636329 0.89866328 0.88184887 0.85408336 0.82361215 0.79315656\n",
            " 0.76380455 0.73608637 0.71024561 0.68634272 0.66431582 0.64402527\n",
            " 0.62528419 0.60788149 0.59159976 0.57622761]\n",
            "15 day output [[0.5615712]]\n",
            "16 day input [0.8609409  0.83408293 0.81220327 0.84642422 0.86491522 0.87269654\n",
            " 0.85249028 0.8541218  0.86847118 0.88315526 0.88637653 0.89763007\n",
            " 0.88980697 0.88072882 0.91118463 0.8962495  0.8619449  0.83805724\n",
            " 0.8176418  0.81283079 0.76463703 0.75417831 0.7765181  0.77388248\n",
            " 0.74999482 0.71640139 0.5851654  0.6181313  0.5423683  0.57776065\n",
            " 0.50279251 0.49634993 0.46330038 0.42079615 0.50467508 0.39264125\n",
            " 0.44229929 0.55847473 0.54504569 0.54454369 0.51513375 0.5848307\n",
            " 0.55696863 0.55445854 0.6620997  0.65042781 0.67368794 0.64791772\n",
            " 0.61503546 0.63026342 0.67707661 0.69364326 0.6882465  0.79387957\n",
            " 0.7999875  0.83855924 0.84922714 0.84788844 0.84688434 0.86803608\n",
            " 0.84250843 0.86360165 0.86368529 0.90198096 0.9474387  0.95987202\n",
            " 0.87902192 0.90503482 0.85441462 0.87403524 0.85843081 0.83178201\n",
            " 0.85253205 0.85884916 0.85073323 0.844458   0.862447   0.88478678\n",
            " 0.87821873 0.92503192 0.9378752  0.94285362 0.97477365 0.97636329\n",
            " 0.89866328 0.88184887 0.85408336 0.82361215 0.79315656 0.76380455\n",
            " 0.73608637 0.71024561 0.68634272 0.66431582 0.64402527 0.62528419\n",
            " 0.60788149 0.59159976 0.57622761 0.56157118]\n",
            "16 day output [[0.5474621]]\n",
            "17 day input [0.83408293 0.81220327 0.84642422 0.86491522 0.87269654 0.85249028\n",
            " 0.8541218  0.86847118 0.88315526 0.88637653 0.89763007 0.88980697\n",
            " 0.88072882 0.91118463 0.8962495  0.8619449  0.83805724 0.8176418\n",
            " 0.81283079 0.76463703 0.75417831 0.7765181  0.77388248 0.74999482\n",
            " 0.71640139 0.5851654  0.6181313  0.5423683  0.57776065 0.50279251\n",
            " 0.49634993 0.46330038 0.42079615 0.50467508 0.39264125 0.44229929\n",
            " 0.55847473 0.54504569 0.54454369 0.51513375 0.5848307  0.55696863\n",
            " 0.55445854 0.6620997  0.65042781 0.67368794 0.64791772 0.61503546\n",
            " 0.63026342 0.67707661 0.69364326 0.6882465  0.79387957 0.7999875\n",
            " 0.83855924 0.84922714 0.84788844 0.84688434 0.86803608 0.84250843\n",
            " 0.86360165 0.86368529 0.90198096 0.9474387  0.95987202 0.87902192\n",
            " 0.90503482 0.85441462 0.87403524 0.85843081 0.83178201 0.85253205\n",
            " 0.85884916 0.85073323 0.844458   0.862447   0.88478678 0.87821873\n",
            " 0.92503192 0.9378752  0.94285362 0.97477365 0.97636329 0.89866328\n",
            " 0.88184887 0.85408336 0.82361215 0.79315656 0.76380455 0.73608637\n",
            " 0.71024561 0.68634272 0.66431582 0.64402527 0.62528419 0.60788149\n",
            " 0.59159976 0.57622761 0.56157118 0.54746211]\n",
            "17 day output [[0.5337653]]\n",
            "18 day input [0.81220327 0.84642422 0.86491522 0.87269654 0.85249028 0.8541218\n",
            " 0.86847118 0.88315526 0.88637653 0.89763007 0.88980697 0.88072882\n",
            " 0.91118463 0.8962495  0.8619449  0.83805724 0.8176418  0.81283079\n",
            " 0.76463703 0.75417831 0.7765181  0.77388248 0.74999482 0.71640139\n",
            " 0.5851654  0.6181313  0.5423683  0.57776065 0.50279251 0.49634993\n",
            " 0.46330038 0.42079615 0.50467508 0.39264125 0.44229929 0.55847473\n",
            " 0.54504569 0.54454369 0.51513375 0.5848307  0.55696863 0.55445854\n",
            " 0.6620997  0.65042781 0.67368794 0.64791772 0.61503546 0.63026342\n",
            " 0.67707661 0.69364326 0.6882465  0.79387957 0.7999875  0.83855924\n",
            " 0.84922714 0.84788844 0.84688434 0.86803608 0.84250843 0.86360165\n",
            " 0.86368529 0.90198096 0.9474387  0.95987202 0.87902192 0.90503482\n",
            " 0.85441462 0.87403524 0.85843081 0.83178201 0.85253205 0.85884916\n",
            " 0.85073323 0.844458   0.862447   0.88478678 0.87821873 0.92503192\n",
            " 0.9378752  0.94285362 0.97477365 0.97636329 0.89866328 0.88184887\n",
            " 0.85408336 0.82361215 0.79315656 0.76380455 0.73608637 0.71024561\n",
            " 0.68634272 0.66431582 0.64402527 0.62528419 0.60788149 0.59159976\n",
            " 0.57622761 0.56157118 0.54746211 0.53376532]\n",
            "18 day output [[0.52038425]]\n",
            "19 day input [0.84642422 0.86491522 0.87269654 0.85249028 0.8541218  0.86847118\n",
            " 0.88315526 0.88637653 0.89763007 0.88980697 0.88072882 0.91118463\n",
            " 0.8962495  0.8619449  0.83805724 0.8176418  0.81283079 0.76463703\n",
            " 0.75417831 0.7765181  0.77388248 0.74999482 0.71640139 0.5851654\n",
            " 0.6181313  0.5423683  0.57776065 0.50279251 0.49634993 0.46330038\n",
            " 0.42079615 0.50467508 0.39264125 0.44229929 0.55847473 0.54504569\n",
            " 0.54454369 0.51513375 0.5848307  0.55696863 0.55445854 0.6620997\n",
            " 0.65042781 0.67368794 0.64791772 0.61503546 0.63026342 0.67707661\n",
            " 0.69364326 0.6882465  0.79387957 0.7999875  0.83855924 0.84922714\n",
            " 0.84788844 0.84688434 0.86803608 0.84250843 0.86360165 0.86368529\n",
            " 0.90198096 0.9474387  0.95987202 0.87902192 0.90503482 0.85441462\n",
            " 0.87403524 0.85843081 0.83178201 0.85253205 0.85884916 0.85073323\n",
            " 0.844458   0.862447   0.88478678 0.87821873 0.92503192 0.9378752\n",
            " 0.94285362 0.97477365 0.97636329 0.89866328 0.88184887 0.85408336\n",
            " 0.82361215 0.79315656 0.76380455 0.73608637 0.71024561 0.68634272\n",
            " 0.66431582 0.64402527 0.62528419 0.60788149 0.59159976 0.57622761\n",
            " 0.56157118 0.54746211 0.53376532 0.52038425]\n",
            "19 day output [[0.50726473]]\n",
            "20 day input [0.86491522 0.87269654 0.85249028 0.8541218  0.86847118 0.88315526\n",
            " 0.88637653 0.89763007 0.88980697 0.88072882 0.91118463 0.8962495\n",
            " 0.8619449  0.83805724 0.8176418  0.81283079 0.76463703 0.75417831\n",
            " 0.7765181  0.77388248 0.74999482 0.71640139 0.5851654  0.6181313\n",
            " 0.5423683  0.57776065 0.50279251 0.49634993 0.46330038 0.42079615\n",
            " 0.50467508 0.39264125 0.44229929 0.55847473 0.54504569 0.54454369\n",
            " 0.51513375 0.5848307  0.55696863 0.55445854 0.6620997  0.65042781\n",
            " 0.67368794 0.64791772 0.61503546 0.63026342 0.67707661 0.69364326\n",
            " 0.6882465  0.79387957 0.7999875  0.83855924 0.84922714 0.84788844\n",
            " 0.84688434 0.86803608 0.84250843 0.86360165 0.86368529 0.90198096\n",
            " 0.9474387  0.95987202 0.87902192 0.90503482 0.85441462 0.87403524\n",
            " 0.85843081 0.83178201 0.85253205 0.85884916 0.85073323 0.844458\n",
            " 0.862447   0.88478678 0.87821873 0.92503192 0.9378752  0.94285362\n",
            " 0.97477365 0.97636329 0.89866328 0.88184887 0.85408336 0.82361215\n",
            " 0.79315656 0.76380455 0.73608637 0.71024561 0.68634272 0.66431582\n",
            " 0.64402527 0.62528419 0.60788149 0.59159976 0.57622761 0.56157118\n",
            " 0.54746211 0.53376532 0.52038425 0.50726473]\n",
            "20 day output [[0.4943957]]\n",
            "21 day input [0.87269654 0.85249028 0.8541218  0.86847118 0.88315526 0.88637653\n",
            " 0.89763007 0.88980697 0.88072882 0.91118463 0.8962495  0.8619449\n",
            " 0.83805724 0.8176418  0.81283079 0.76463703 0.75417831 0.7765181\n",
            " 0.77388248 0.74999482 0.71640139 0.5851654  0.6181313  0.5423683\n",
            " 0.57776065 0.50279251 0.49634993 0.46330038 0.42079615 0.50467508\n",
            " 0.39264125 0.44229929 0.55847473 0.54504569 0.54454369 0.51513375\n",
            " 0.5848307  0.55696863 0.55445854 0.6620997  0.65042781 0.67368794\n",
            " 0.64791772 0.61503546 0.63026342 0.67707661 0.69364326 0.6882465\n",
            " 0.79387957 0.7999875  0.83855924 0.84922714 0.84788844 0.84688434\n",
            " 0.86803608 0.84250843 0.86360165 0.86368529 0.90198096 0.9474387\n",
            " 0.95987202 0.87902192 0.90503482 0.85441462 0.87403524 0.85843081\n",
            " 0.83178201 0.85253205 0.85884916 0.85073323 0.844458   0.862447\n",
            " 0.88478678 0.87821873 0.92503192 0.9378752  0.94285362 0.97477365\n",
            " 0.97636329 0.89866328 0.88184887 0.85408336 0.82361215 0.79315656\n",
            " 0.76380455 0.73608637 0.71024561 0.68634272 0.66431582 0.64402527\n",
            " 0.62528419 0.60788149 0.59159976 0.57622761 0.56157118 0.54746211\n",
            " 0.53376532 0.52038425 0.50726473 0.4943957 ]\n",
            "21 day output [[0.48169568]]\n",
            "22 day input [0.85249028 0.8541218  0.86847118 0.88315526 0.88637653 0.89763007\n",
            " 0.88980697 0.88072882 0.91118463 0.8962495  0.8619449  0.83805724\n",
            " 0.8176418  0.81283079 0.76463703 0.75417831 0.7765181  0.77388248\n",
            " 0.74999482 0.71640139 0.5851654  0.6181313  0.5423683  0.57776065\n",
            " 0.50279251 0.49634993 0.46330038 0.42079615 0.50467508 0.39264125\n",
            " 0.44229929 0.55847473 0.54504569 0.54454369 0.51513375 0.5848307\n",
            " 0.55696863 0.55445854 0.6620997  0.65042781 0.67368794 0.64791772\n",
            " 0.61503546 0.63026342 0.67707661 0.69364326 0.6882465  0.79387957\n",
            " 0.7999875  0.83855924 0.84922714 0.84788844 0.84688434 0.86803608\n",
            " 0.84250843 0.86360165 0.86368529 0.90198096 0.9474387  0.95987202\n",
            " 0.87902192 0.90503482 0.85441462 0.87403524 0.85843081 0.83178201\n",
            " 0.85253205 0.85884916 0.85073323 0.844458   0.862447   0.88478678\n",
            " 0.87821873 0.92503192 0.9378752  0.94285362 0.97477365 0.97636329\n",
            " 0.89866328 0.88184887 0.85408336 0.82361215 0.79315656 0.76380455\n",
            " 0.73608637 0.71024561 0.68634272 0.66431582 0.64402527 0.62528419\n",
            " 0.60788149 0.59159976 0.57622761 0.56157118 0.54746211 0.53376532\n",
            " 0.52038425 0.50726473 0.4943957  0.48169568]\n",
            "22 day output [[0.4691301]]\n",
            "23 day input [0.8541218  0.86847118 0.88315526 0.88637653 0.89763007 0.88980697\n",
            " 0.88072882 0.91118463 0.8962495  0.8619449  0.83805724 0.8176418\n",
            " 0.81283079 0.76463703 0.75417831 0.7765181  0.77388248 0.74999482\n",
            " 0.71640139 0.5851654  0.6181313  0.5423683  0.57776065 0.50279251\n",
            " 0.49634993 0.46330038 0.42079615 0.50467508 0.39264125 0.44229929\n",
            " 0.55847473 0.54504569 0.54454369 0.51513375 0.5848307  0.55696863\n",
            " 0.55445854 0.6620997  0.65042781 0.67368794 0.64791772 0.61503546\n",
            " 0.63026342 0.67707661 0.69364326 0.6882465  0.79387957 0.7999875\n",
            " 0.83855924 0.84922714 0.84788844 0.84688434 0.86803608 0.84250843\n",
            " 0.86360165 0.86368529 0.90198096 0.9474387  0.95987202 0.87902192\n",
            " 0.90503482 0.85441462 0.87403524 0.85843081 0.83178201 0.85253205\n",
            " 0.85884916 0.85073323 0.844458   0.862447   0.88478678 0.87821873\n",
            " 0.92503192 0.9378752  0.94285362 0.97477365 0.97636329 0.89866328\n",
            " 0.88184887 0.85408336 0.82361215 0.79315656 0.76380455 0.73608637\n",
            " 0.71024561 0.68634272 0.66431582 0.64402527 0.62528419 0.60788149\n",
            " 0.59159976 0.57622761 0.56157118 0.54746211 0.53376532 0.52038425\n",
            " 0.50726473 0.4943957  0.48169568 0.4691301 ]\n",
            "23 day output [[0.45690742]]\n",
            "24 day input [0.86847118 0.88315526 0.88637653 0.89763007 0.88980697 0.88072882\n",
            " 0.91118463 0.8962495  0.8619449  0.83805724 0.8176418  0.81283079\n",
            " 0.76463703 0.75417831 0.7765181  0.77388248 0.74999482 0.71640139\n",
            " 0.5851654  0.6181313  0.5423683  0.57776065 0.50279251 0.49634993\n",
            " 0.46330038 0.42079615 0.50467508 0.39264125 0.44229929 0.55847473\n",
            " 0.54504569 0.54454369 0.51513375 0.5848307  0.55696863 0.55445854\n",
            " 0.6620997  0.65042781 0.67368794 0.64791772 0.61503546 0.63026342\n",
            " 0.67707661 0.69364326 0.6882465  0.79387957 0.7999875  0.83855924\n",
            " 0.84922714 0.84788844 0.84688434 0.86803608 0.84250843 0.86360165\n",
            " 0.86368529 0.90198096 0.9474387  0.95987202 0.87902192 0.90503482\n",
            " 0.85441462 0.87403524 0.85843081 0.83178201 0.85253205 0.85884916\n",
            " 0.85073323 0.844458   0.862447   0.88478678 0.87821873 0.92503192\n",
            " 0.9378752  0.94285362 0.97477365 0.97636329 0.89866328 0.88184887\n",
            " 0.85408336 0.82361215 0.79315656 0.76380455 0.73608637 0.71024561\n",
            " 0.68634272 0.66431582 0.64402527 0.62528419 0.60788149 0.59159976\n",
            " 0.57622761 0.56157118 0.54746211 0.53376532 0.52038425 0.50726473\n",
            " 0.4943957  0.48169568 0.4691301  0.45690742]\n",
            "24 day output [[0.44517908]]\n",
            "25 day input [0.88315526 0.88637653 0.89763007 0.88980697 0.88072882 0.91118463\n",
            " 0.8962495  0.8619449  0.83805724 0.8176418  0.81283079 0.76463703\n",
            " 0.75417831 0.7765181  0.77388248 0.74999482 0.71640139 0.5851654\n",
            " 0.6181313  0.5423683  0.57776065 0.50279251 0.49634993 0.46330038\n",
            " 0.42079615 0.50467508 0.39264125 0.44229929 0.55847473 0.54504569\n",
            " 0.54454369 0.51513375 0.5848307  0.55696863 0.55445854 0.6620997\n",
            " 0.65042781 0.67368794 0.64791772 0.61503546 0.63026342 0.67707661\n",
            " 0.69364326 0.6882465  0.79387957 0.7999875  0.83855924 0.84922714\n",
            " 0.84788844 0.84688434 0.86803608 0.84250843 0.86360165 0.86368529\n",
            " 0.90198096 0.9474387  0.95987202 0.87902192 0.90503482 0.85441462\n",
            " 0.87403524 0.85843081 0.83178201 0.85253205 0.85884916 0.85073323\n",
            " 0.844458   0.862447   0.88478678 0.87821873 0.92503192 0.9378752\n",
            " 0.94285362 0.97477365 0.97636329 0.89866328 0.88184887 0.85408336\n",
            " 0.82361215 0.79315656 0.76380455 0.73608637 0.71024561 0.68634272\n",
            " 0.66431582 0.64402527 0.62528419 0.60788149 0.59159976 0.57622761\n",
            " 0.56157118 0.54746211 0.53376532 0.52038425 0.50726473 0.4943957\n",
            " 0.48169568 0.4691301  0.45690742 0.44517908]\n",
            "25 day output [[0.43407825]]\n",
            "26 day input [0.88637653 0.89763007 0.88980697 0.88072882 0.91118463 0.8962495\n",
            " 0.8619449  0.83805724 0.8176418  0.81283079 0.76463703 0.75417831\n",
            " 0.7765181  0.77388248 0.74999482 0.71640139 0.5851654  0.6181313\n",
            " 0.5423683  0.57776065 0.50279251 0.49634993 0.46330038 0.42079615\n",
            " 0.50467508 0.39264125 0.44229929 0.55847473 0.54504569 0.54454369\n",
            " 0.51513375 0.5848307  0.55696863 0.55445854 0.6620997  0.65042781\n",
            " 0.67368794 0.64791772 0.61503546 0.63026342 0.67707661 0.69364326\n",
            " 0.6882465  0.79387957 0.7999875  0.83855924 0.84922714 0.84788844\n",
            " 0.84688434 0.86803608 0.84250843 0.86360165 0.86368529 0.90198096\n",
            " 0.9474387  0.95987202 0.87902192 0.90503482 0.85441462 0.87403524\n",
            " 0.85843081 0.83178201 0.85253205 0.85884916 0.85073323 0.844458\n",
            " 0.862447   0.88478678 0.87821873 0.92503192 0.9378752  0.94285362\n",
            " 0.97477365 0.97636329 0.89866328 0.88184887 0.85408336 0.82361215\n",
            " 0.79315656 0.76380455 0.73608637 0.71024561 0.68634272 0.66431582\n",
            " 0.64402527 0.62528419 0.60788149 0.59159976 0.57622761 0.56157118\n",
            " 0.54746211 0.53376532 0.52038425 0.50726473 0.4943957  0.48169568\n",
            " 0.4691301  0.45690742 0.44517908 0.43407825]\n",
            "26 day output [[0.423724]]\n",
            "27 day input [0.89763007 0.88980697 0.88072882 0.91118463 0.8962495  0.8619449\n",
            " 0.83805724 0.8176418  0.81283079 0.76463703 0.75417831 0.7765181\n",
            " 0.77388248 0.74999482 0.71640139 0.5851654  0.6181313  0.5423683\n",
            " 0.57776065 0.50279251 0.49634993 0.46330038 0.42079615 0.50467508\n",
            " 0.39264125 0.44229929 0.55847473 0.54504569 0.54454369 0.51513375\n",
            " 0.5848307  0.55696863 0.55445854 0.6620997  0.65042781 0.67368794\n",
            " 0.64791772 0.61503546 0.63026342 0.67707661 0.69364326 0.6882465\n",
            " 0.79387957 0.7999875  0.83855924 0.84922714 0.84788844 0.84688434\n",
            " 0.86803608 0.84250843 0.86360165 0.86368529 0.90198096 0.9474387\n",
            " 0.95987202 0.87902192 0.90503482 0.85441462 0.87403524 0.85843081\n",
            " 0.83178201 0.85253205 0.85884916 0.85073323 0.844458   0.862447\n",
            " 0.88478678 0.87821873 0.92503192 0.9378752  0.94285362 0.97477365\n",
            " 0.97636329 0.89866328 0.88184887 0.85408336 0.82361215 0.79315656\n",
            " 0.76380455 0.73608637 0.71024561 0.68634272 0.66431582 0.64402527\n",
            " 0.62528419 0.60788149 0.59159976 0.57622761 0.56157118 0.54746211\n",
            " 0.53376532 0.52038425 0.50726473 0.4943957  0.48169568 0.4691301\n",
            " 0.45690742 0.44517908 0.43407825 0.423724  ]\n",
            "27 day output [[0.41421387]]\n",
            "28 day input [0.88980697 0.88072882 0.91118463 0.8962495  0.8619449  0.83805724\n",
            " 0.8176418  0.81283079 0.76463703 0.75417831 0.7765181  0.77388248\n",
            " 0.74999482 0.71640139 0.5851654  0.6181313  0.5423683  0.57776065\n",
            " 0.50279251 0.49634993 0.46330038 0.42079615 0.50467508 0.39264125\n",
            " 0.44229929 0.55847473 0.54504569 0.54454369 0.51513375 0.5848307\n",
            " 0.55696863 0.55445854 0.6620997  0.65042781 0.67368794 0.64791772\n",
            " 0.61503546 0.63026342 0.67707661 0.69364326 0.6882465  0.79387957\n",
            " 0.7999875  0.83855924 0.84922714 0.84788844 0.84688434 0.86803608\n",
            " 0.84250843 0.86360165 0.86368529 0.90198096 0.9474387  0.95987202\n",
            " 0.87902192 0.90503482 0.85441462 0.87403524 0.85843081 0.83178201\n",
            " 0.85253205 0.85884916 0.85073323 0.844458   0.862447   0.88478678\n",
            " 0.87821873 0.92503192 0.9378752  0.94285362 0.97477365 0.97636329\n",
            " 0.89866328 0.88184887 0.85408336 0.82361215 0.79315656 0.76380455\n",
            " 0.73608637 0.71024561 0.68634272 0.66431582 0.64402527 0.62528419\n",
            " 0.60788149 0.59159976 0.57622761 0.56157118 0.54746211 0.53376532\n",
            " 0.52038425 0.50726473 0.4943957  0.48169568 0.4691301  0.45690742\n",
            " 0.44517908 0.43407825 0.423724   0.41421387]\n",
            "28 day output [[0.4056175]]\n",
            "29 day input [0.88072882 0.91118463 0.8962495  0.8619449  0.83805724 0.8176418\n",
            " 0.81283079 0.76463703 0.75417831 0.7765181  0.77388248 0.74999482\n",
            " 0.71640139 0.5851654  0.6181313  0.5423683  0.57776065 0.50279251\n",
            " 0.49634993 0.46330038 0.42079615 0.50467508 0.39264125 0.44229929\n",
            " 0.55847473 0.54504569 0.54454369 0.51513375 0.5848307  0.55696863\n",
            " 0.55445854 0.6620997  0.65042781 0.67368794 0.64791772 0.61503546\n",
            " 0.63026342 0.67707661 0.69364326 0.6882465  0.79387957 0.7999875\n",
            " 0.83855924 0.84922714 0.84788844 0.84688434 0.86803608 0.84250843\n",
            " 0.86360165 0.86368529 0.90198096 0.9474387  0.95987202 0.87902192\n",
            " 0.90503482 0.85441462 0.87403524 0.85843081 0.83178201 0.85253205\n",
            " 0.85884916 0.85073323 0.844458   0.862447   0.88478678 0.87821873\n",
            " 0.92503192 0.9378752  0.94285362 0.97477365 0.97636329 0.89866328\n",
            " 0.88184887 0.85408336 0.82361215 0.79315656 0.76380455 0.73608637\n",
            " 0.71024561 0.68634272 0.66431582 0.64402527 0.62528419 0.60788149\n",
            " 0.59159976 0.57622761 0.56157118 0.54746211 0.53376532 0.52038425\n",
            " 0.50726473 0.4943957  0.48169568 0.4691301  0.45690742 0.44517908\n",
            " 0.43407825 0.423724   0.41421387 0.40561751]\n",
            "29 day output [[0.3979718]]\n",
            "[[0.8986632823944092], [0.8818488717079163], [0.8540833592414856], [0.8236121535301208], [0.7931565642356873], [0.76380455493927], [0.736086368560791], [0.7102456092834473], [0.686342716217041], [0.6643158197402954], [0.6440252661705017], [0.6252841949462891], [0.607881486415863], [0.5915997624397278], [0.576227605342865], [0.5615711808204651], [0.5474621057510376], [0.5337653160095215], [0.5203842520713806], [0.5072647333145142], [0.4943957030773163], [0.48169568181037903], [0.46913009881973267], [0.4569074213504791], [0.4451790750026703], [0.43407824635505676], [0.4237239956855774], [0.4142138659954071], [0.40561750531196594], [0.3979718089103699]]\n"
          ]
        }
      ]
    },
    {
      "cell_type": "code",
      "source": [
        "day_new = np.arange(1,101)\n",
        "day_pred = np.arange(101,131)"
      ],
      "metadata": {
        "id": "tMDR1rjuG9pk"
      },
      "execution_count": null,
      "outputs": []
    },
    {
      "cell_type": "code",
      "source": [
        "df3 = df_close.tolist()\n",
        "df3.extend(lst_output)"
      ],
      "metadata": {
        "id": "XLX7-EivHH7H"
      },
      "execution_count": null,
      "outputs": []
    },
    {
      "cell_type": "code",
      "source": [
        "len(df_close)"
      ],
      "metadata": {
        "colab": {
          "base_uri": "https://localhost:8080/"
        },
        "id": "Z0A4SfJEHIBp",
        "outputId": "9b50d10a-341b-40c0-dea9-9a1b8b3df181"
      },
      "execution_count": null,
      "outputs": [
        {
          "output_type": "execute_result",
          "data": {
            "text/plain": [
              "1228"
            ]
          },
          "metadata": {},
          "execution_count": 33
        }
      ]
    },
    {
      "cell_type": "code",
      "source": [
        "plt.plot(day_new, scaler.inverse_transform(df_close[1128:]))\n",
        "plt.plot(day_pred, scaler.inverse_transform(lst_output))"
      ],
      "metadata": {
        "colab": {
          "base_uri": "https://localhost:8080/",
          "height": 282
        },
        "id": "0fPU94iBHIFI",
        "outputId": "e7958be4-bf9b-485e-8de8-8221a45c5915"
      },
      "execution_count": null,
      "outputs": [
        {
          "output_type": "execute_result",
          "data": {
            "text/plain": [
              "[<matplotlib.lines.Line2D at 0x7febfd97d6a0>]"
            ]
          },
          "metadata": {},
          "execution_count": 34
        },
        {
          "output_type": "display_data",
          "data": {
            "text/plain": [
              "<Figure size 432x288 with 1 Axes>"
            ],
            "image/png": "[encoded data removed]"
          },
          "metadata": {
            "needs_background": "light"
          }
        }
      ]
    },
    {
      "cell_type": "code",
      "source": [],
      "metadata": {
        "id": "d1qPWK8QHIMD"
      },
      "execution_count": null,
      "outputs": []
    }
  ]
}